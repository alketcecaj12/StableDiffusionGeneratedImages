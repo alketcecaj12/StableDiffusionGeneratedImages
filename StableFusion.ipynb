{
 "cells": [
  {
   "cell_type": "code",
   "execution_count": 1,
   "id": "04411692-70e7-4565-9d03-64ba03dcc926",
   "metadata": {},
   "outputs": [
    {
     "name": "stdout",
     "output_type": "stream",
     "text": [
      "Using TensorFlow backend\n"
     ]
    }
   ],
   "source": [
    "import time\n",
    "import keras_cv\n",
    "from tensorflow import keras\n",
    "import matplotlib.pyplot as plt\n",
    "import functions\n",
    "import matplotlib.pyplot as plt"
   ]
  },
  {
   "cell_type": "code",
   "execution_count": 2,
   "id": "d30905de-477a-40a5-a10e-65ea2afc9ffa",
   "metadata": {},
   "outputs": [
    {
     "name": "stdout",
     "output_type": "stream",
     "text": [
      "By using this model checkpoint, you acknowledge that its usage is subject to the terms of the CreativeML Open RAIL-M license at https://raw.githubusercontent.com/CompVis/stable-diffusion/main/LICENSE\n"
     ]
    }
   ],
   "source": [
    "model = keras_cv.models.StableDiffusion(img_width=512, img_height=512, jit_compile=False)"
   ]
  },
  {
   "cell_type": "code",
   "execution_count": 3,
   "id": "604e43a7-87c9-44c4-86e9-f7db21f2693e",
   "metadata": {},
   "outputs": [],
   "source": [
    "new_prompt = \"\"\"A joyful scene of an 8-year-old boy playing fetch with his golden retriever in a sunny park. The boy is laughing, \n",
    "wearing a blue t-shirt, while the dog leaps to catch a red frisbee. Lush green grass, colorful flowers, and a clear blue sky create \n",
    "a cheerful atmosphere.\"\"\""
   ]
  },
  {
   "cell_type": "code",
   "execution_count": null,
   "id": "4ab7dbb7-c3f9-4a1f-a2c1-735b89ccf5d6",
   "metadata": {},
   "outputs": [
    {
     "name": "stderr",
     "output_type": "stream",
     "text": [
      "2024-09-12 21:35:24.353483: I metal_plugin/src/device/metal_device.cc:1154] Metal device set to: Apple M3 Pro\n",
      "2024-09-12 21:35:24.353518: I metal_plugin/src/device/metal_device.cc:296] systemMemory: 36.00 GB\n",
      "2024-09-12 21:35:24.353530: I metal_plugin/src/device/metal_device.cc:313] maxCacheSize: 13.50 GB\n",
      "2024-09-12 21:35:24.353860: I tensorflow/core/common_runtime/pluggable_device/pluggable_device_factory.cc:306] Could not identify NUMA node of platform GPU ID 0, defaulting to 0. Your kernel may not have been built with NUMA support.\n",
      "2024-09-12 21:35:24.354179: I tensorflow/core/common_runtime/pluggable_device/pluggable_device_factory.cc:272] Created TensorFlow device (/job:localhost/replica:0/task:0/device:GPU:0 with 0 MB memory) -> physical PluggableDevice (device: 0, name: METAL, pci bus id: <undefined>)\n",
      "2024-09-12 21:35:26.633683: I tensorflow/core/grappler/optimizers/custom_graph_optimizer_registry.cc:117] Plugin optimizer for device_type GPU is enabled.\n"
     ]
    },
    {
     "name": "stdout",
     "output_type": "stream",
     "text": [
      "50/50 [==============================] - 101s 2s/step\n"
     ]
    }
   ],
   "source": [
    "images = model.text_to_image(new_prompt, batch_size=2)"
   ]
  },
  {
   "cell_type": "code",
   "execution_count": null,
   "id": "60d6f1fc-588f-4392-96f5-426c3a775609",
   "metadata": {},
   "outputs": [],
   "source": [
    "functions.plot_images(images)"
   ]
  },
  {
   "cell_type": "code",
   "execution_count": null,
   "id": "269134c4-785b-4666-b51d-310e2364a938",
   "metadata": {},
   "outputs": [],
   "source": [
    "# Save the image using matplotlib.pyplot.imsave()\n",
    "plt.imsave('img/BoyPlayingWithHisFriend_v2.png', images[1], cmap='gray')"
   ]
  },
  {
   "cell_type": "code",
   "execution_count": null,
   "id": "1f2a1bdd-ee71-411f-bac2-1dad0e3d5591",
   "metadata": {},
   "outputs": [],
   "source": [
    "plt.imshow(images[1])"
   ]
  },
  {
   "cell_type": "code",
   "execution_count": null,
   "id": "68c41925-df46-42d7-9f0a-b965919b446c",
   "metadata": {},
   "outputs": [],
   "source": [
    "# Save the image using matplotlib.pyplot.imsave()\n",
    "plt.imsave('img/BoyPlayingWithHisFriend_v3.png', images[0], cmap='gray')"
   ]
  },
  {
   "cell_type": "code",
   "execution_count": null,
   "id": "a5cf248b-8ee3-4cd7-8c08-c61344738728",
   "metadata": {},
   "outputs": [],
   "source": [
    "plt.imshow(images[0])"
   ]
  },
  {
   "cell_type": "code",
   "execution_count": null,
   "id": "11d96505-bfe5-4bc6-b281-a826c0a89334",
   "metadata": {},
   "outputs": [],
   "source": []
  },
  {
   "cell_type": "code",
   "execution_count": null,
   "id": "e527d610-94b9-44e8-824a-1954836c7b16",
   "metadata": {},
   "outputs": [],
   "source": []
  },
  {
   "cell_type": "code",
   "execution_count": null,
   "id": "5b81aa1f-1b9c-41cb-a13a-b190f3cb4bbd",
   "metadata": {},
   "outputs": [],
   "source": []
  },
  {
   "cell_type": "code",
   "execution_count": null,
   "id": "14ca707f-157f-480c-b193-8dd42da5350d",
   "metadata": {},
   "outputs": [],
   "source": []
  },
  {
   "cell_type": "code",
   "execution_count": null,
   "id": "1c658fe5-2e86-48da-9d67-7163beea34e6",
   "metadata": {},
   "outputs": [],
   "source": []
  },
  {
   "cell_type": "code",
   "execution_count": null,
   "id": "6f8175ee-2af3-4397-9494-e7a893d3f4df",
   "metadata": {},
   "outputs": [],
   "source": []
  },
  {
   "cell_type": "code",
   "execution_count": null,
   "id": "b4744d1a-c9c5-4ea1-9c93-0426ebd5fe6a",
   "metadata": {},
   "outputs": [],
   "source": []
  },
  {
   "cell_type": "code",
   "execution_count": null,
   "id": "63fdc984-3be9-45ba-80e2-0a84d0e434a5",
   "metadata": {},
   "outputs": [],
   "source": []
  },
  {
   "cell_type": "code",
   "execution_count": null,
   "id": "69635927-f7b6-43ea-975d-8520c2f46437",
   "metadata": {},
   "outputs": [],
   "source": []
  },
  {
   "cell_type": "code",
   "execution_count": null,
   "id": "d8559e81-93c2-4d18-8aeb-099fcdd4fb5e",
   "metadata": {},
   "outputs": [],
   "source": []
  },
  {
   "cell_type": "code",
   "execution_count": null,
   "id": "318086a1-b801-433f-9cc4-d90f7db56ce4",
   "metadata": {},
   "outputs": [],
   "source": []
  }
 ],
 "metadata": {
  "kernelspec": {
   "display_name": "Python 3 (ipykernel)",
   "language": "python",
   "name": "python3"
  },
  "language_info": {
   "codemirror_mode": {
    "name": "ipython",
    "version": 3
   },
   "file_extension": ".py",
   "mimetype": "text/x-python",
   "name": "python",
   "nbconvert_exporter": "python",
   "pygments_lexer": "ipython3",
   "version": "3.10.13"
  }
 },
 "nbformat": 4,
 "nbformat_minor": 5
}
